{
 "cells": [
  {
   "cell_type": "code",
   "execution_count": 3,
   "metadata": {},
   "outputs": [],
   "source": [
    "!curl -Lso \"train_img.gz\" https://storage.googleapis.com/cvdf-datasets/mnist/train-images-idx3-ubyte.gz\n",
    "!curl -Lso \"train_label.gz\" https://storage.googleapis.com/cvdf-datasets/mnist/train-labels-idx1-ubyte.gz\n",
    "!curl -Lso \"test_img.gz\" https://storage.googleapis.com/cvdf-datasets/mnist/t10k-images-idx3-ubyte.gz\n",
    "!curl -Lso \"test_label.gz\" https://storage.googleapis.com/cvdf-datasets/mnist/t10k-labels-idx1-ubyte.gz"
   ]
  }
 ],
 "metadata": {
  "kernelspec": {
   "display_name": "mnist-pddLeLU_-py3.10",
   "language": "python",
   "name": "python3"
  },
  "language_info": {
   "codemirror_mode": {
    "name": "ipython",
    "version": 3
   },
   "file_extension": ".py",
   "mimetype": "text/x-python",
   "name": "python",
   "nbconvert_exporter": "python",
   "pygments_lexer": "ipython3",
   "version": "3.10.12"
  }
 },
 "nbformat": 4,
 "nbformat_minor": 2
}
